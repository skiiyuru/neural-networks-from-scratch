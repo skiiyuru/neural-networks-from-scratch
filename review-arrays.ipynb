{
 "cells": [
  {
   "attachments": {},
   "cell_type": "markdown",
   "metadata": {},
   "source": [
    "# Tensors, Arrays and Vectors\n",
    "\n",
    "These concepts are crucial to understand when dealing with machine learning. Most of the data you will handle will involve these things.\n",
    "\n",
    "Let's look at some examples of `lists`"
   ]
  },
  {
   "cell_type": "code",
   "execution_count": 1,
   "metadata": {},
   "outputs": [],
   "source": [
    "simple_list = [1,5,6,2]\n",
    "\n",
    "# list of lists (lol)\n",
    "lol = [[1,5,6,2], \n",
    "       [3,2,1,3]]\n",
    "\n",
    "lolol = [[[1,5,6,2], \n",
    "          [3,2,1,3]], \n",
    "         [[5,2,1,2], \n",
    "          [6,4,8,4]]]"
   ]
  },
  {
   "attachments": {},
   "cell_type": "markdown",
   "metadata": {},
   "source": [
    "All the above examples can also be:\n",
    "* `arrays`\n",
    "* an array representation of a `tensor`\n",
    "\n",
    "Lets look at a different example"
   ]
  },
  {
   "cell_type": "code",
   "execution_count": 2,
   "metadata": {},
   "outputs": [],
   "source": [
    "another_list = [[4,2,3],\n",
    "                [5,1]]"
   ]
  },
  {
   "attachments": {},
   "cell_type": "markdown",
   "metadata": {},
   "source": [
    "* The above example **cannot** be an array\n",
    "  * Arrays are **homologous** meaning each list along a dimension is identically long, and this must be true for all dimensions.\n",
    "\n",
    "  * In other words, all the rows have to be of the same length, all the columns have to be of the same length.\n",
    "\n",
    "* A `tensor` object is an object that can be represented as an array.\n",
    "  * What this means is, as programmers, we can (and will) treat tensors as arrays in the context of deep learning, and that’s really all the thought we have to put into it.\n",
    "\n",
    "* A `vector` is the mathematical term for a list (in Python) or a 1-dimensional array (in NumPy).\n",
    "\n"
   ]
  },
  {
   "attachments": {},
   "cell_type": "markdown",
   "metadata": {},
   "source": [
    "## Dot Product and Vector Addition\n",
    "\n",
    "Lets look at a dot product example"
   ]
  },
  {
   "cell_type": "code",
   "execution_count": 4,
   "metadata": {},
   "outputs": [
    {
     "data": {
      "text/plain": [
       "20"
      ]
     },
     "execution_count": 4,
     "metadata": {},
     "output_type": "execute_result"
    }
   ],
   "source": [
    "# some vectors\n",
    "a = [1,2,3] \n",
    "b = [2,3,4]\n",
    "\n",
    "dot_product = a[0]*b[0] + a[1]*b[1] + a[2]*b[2]\n",
    "dot_product"
   ]
  },
  {
   "attachments": {},
   "cell_type": "markdown",
   "metadata": {},
   "source": [
    "* `dot_product` results in a **scalar (single number)**"
   ]
  },
  {
   "attachments": {},
   "cell_type": "markdown",
   "metadata": {},
   "source": [
    "Lets look at a vector addition exapmle"
   ]
  },
  {
   "cell_type": "code",
   "execution_count": 5,
   "metadata": {},
   "outputs": [
    {
     "data": {
      "text/plain": [
       "[3, 5, 7]"
      ]
     },
     "execution_count": 5,
     "metadata": {},
     "output_type": "execute_result"
    }
   ],
   "source": [
    "a = [1,2,3] \n",
    "b = [2,3,4]\n",
    "\n",
    "vector_sum = [a[0]+b[0],\n",
    "       a[1]+b[1],\n",
    "       a[2]+b[2]]\n",
    "\n",
    "vector_sum"
   ]
  },
  {
   "attachments": {},
   "cell_type": "markdown",
   "metadata": {},
   "source": [
    "When we add two vectors, each i-th element is added together, resulting in a **new vector of the same size**."
   ]
  },
  {
   "cell_type": "markdown",
   "metadata": {},
   "source": []
  }
 ],
 "metadata": {
  "kernelspec": {
   "display_name": "base",
   "language": "python",
   "name": "python3"
  },
  "language_info": {
   "codemirror_mode": {
    "name": "ipython",
    "version": 3
   },
   "file_extension": ".py",
   "mimetype": "text/x-python",
   "name": "python",
   "nbconvert_exporter": "python",
   "pygments_lexer": "ipython3",
   "version": "3.9.7"
  },
  "orig_nbformat": 4,
  "vscode": {
   "interpreter": {
    "hash": "37a1ae08f87caea64dd701a1ac68668d202b597d9c5a67183a139e8ada6ac175"
   }
  }
 },
 "nbformat": 4,
 "nbformat_minor": 2
}
